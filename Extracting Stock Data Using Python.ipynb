{
 "cells": [
  {
   "cell_type": "code",
   "execution_count": 1,
   "id": "6dafaa82",
   "metadata": {},
   "outputs": [
    {
     "name": "stdout",
     "output_type": "stream",
     "text": [
      "Collecting package metadata (current_repodata.json): done\n",
      "Solving environment: done\n",
      "\n",
      "## Package Plan ##\n",
      "\n",
      "  environment location: /Users/simamkelentlombe/miniforge3\n",
      "\n",
      "  added / updated specs:\n",
      "    - yfinance\n",
      "\n",
      "\n",
      "The following packages will be downloaded:\n",
      "\n",
      "    package                    |            build\n",
      "    ---------------------------|-----------------\n",
      "    appdirs-1.4.4              |     pyh9f0ad1d_0          13 KB  conda-forge\n",
      "    ca-certificates-2022.12.7  |       h4653dfc_0         142 KB  conda-forge\n",
      "    certifi-2022.12.7          |     pyhd8ed1ab_0         147 KB  conda-forge\n",
      "    conda-22.11.1              |  py310hbe9552e_1         891 KB  conda-forge\n",
      "    icu-70.1                   |       h6b3803e_0        13.3 MB  conda-forge\n",
      "    libgfortran-5.0.0          |11_3_0_hd922786_27         143 KB  conda-forge\n",
      "    libgfortran5-11.3.0        |      hdaf2cc0_27         1.0 MB  conda-forge\n",
      "    libiconv-1.17              |       he4db4b2_0         1.3 MB  conda-forge\n",
      "    libxml2-2.10.3             |       h87b0503_0         632 KB  conda-forge\n",
      "    libxslt-1.1.37             |       h1bd8bc4_0         231 KB  conda-forge\n",
      "    llvm-openmp-15.0.6         |       h7cfbb63_0         256 KB  conda-forge\n",
      "    lxml-4.9.2                 |  py310h85b680a_0         1.2 MB  conda-forge\n",
      "    multitasking-0.0.9         |     pyhd8ed1ab_0          12 KB  conda-forge\n",
      "    numpy-1.23.5               |  py310h5d7c261_0         4.7 MB  conda-forge\n",
      "    openssl-1.1.1s             |       h03a7124_1         1.5 MB  conda-forge\n",
      "    pandas-1.5.2               |  py310h2b830bf_0         9.6 MB  conda-forge\n",
      "    pluggy-1.0.0               |     pyhd8ed1ab_5          16 KB  conda-forge\n",
      "    pytz-2022.7                |     pyhd8ed1ab_0         182 KB  conda-forge\n",
      "    ruamel.yaml-0.17.21        |  py310h8e9501a_2         176 KB  conda-forge\n",
      "    ruamel.yaml.clib-0.2.7     |  py310h8e9501a_1         107 KB  conda-forge\n",
      "    yfinance-0.1.93            |     pyhd8ed1ab_0          30 KB  conda-forge\n",
      "    ------------------------------------------------------------\n",
      "                                           Total:        35.5 MB\n",
      "\n",
      "The following NEW packages will be INSTALLED:\n",
      "\n",
      "  appdirs            conda-forge/noarch::appdirs-1.4.4-pyh9f0ad1d_0 None\n",
      "  icu                conda-forge/osx-arm64::icu-70.1-h6b3803e_0 None\n",
      "  libblas            conda-forge/osx-arm64::libblas-3.9.0-16_osxarm64_openblas None\n",
      "  libcblas           conda-forge/osx-arm64::libcblas-3.9.0-16_osxarm64_openblas None\n",
      "  libcxx             conda-forge/osx-arm64::libcxx-14.0.6-h2692d47_0 None\n",
      "  libgfortran        conda-forge/osx-arm64::libgfortran-5.0.0-11_3_0_hd922786_27 None\n",
      "  libgfortran5       conda-forge/osx-arm64::libgfortran5-11.3.0-hdaf2cc0_27 None\n",
      "  libiconv           conda-forge/osx-arm64::libiconv-1.17-he4db4b2_0 None\n",
      "  liblapack          conda-forge/osx-arm64::liblapack-3.9.0-16_osxarm64_openblas None\n",
      "  libopenblas        conda-forge/osx-arm64::libopenblas-0.3.21-openmp_hc731615_3 None\n",
      "  libxml2            conda-forge/osx-arm64::libxml2-2.10.3-h87b0503_0 None\n",
      "  libxslt            conda-forge/osx-arm64::libxslt-1.1.37-h1bd8bc4_0 None\n",
      "  llvm-openmp        conda-forge/osx-arm64::llvm-openmp-15.0.6-h7cfbb63_0 None\n",
      "  lxml               conda-forge/osx-arm64::lxml-4.9.2-py310h85b680a_0 None\n",
      "  multitasking       conda-forge/noarch::multitasking-0.0.9-pyhd8ed1ab_0 None\n",
      "  numpy              conda-forge/osx-arm64::numpy-1.23.5-py310h5d7c261_0 None\n",
      "  pandas             conda-forge/osx-arm64::pandas-1.5.2-py310h2b830bf_0 None\n",
      "  pluggy             conda-forge/noarch::pluggy-1.0.0-pyhd8ed1ab_5 None\n",
      "  python-dateutil    conda-forge/noarch::python-dateutil-2.8.2-pyhd8ed1ab_0 None\n",
      "  pytz               conda-forge/noarch::pytz-2022.7-pyhd8ed1ab_0 None\n",
      "  ruamel.yaml        conda-forge/osx-arm64::ruamel.yaml-0.17.21-py310h8e9501a_2 None\n",
      "  ruamel.yaml.clib   conda-forge/osx-arm64::ruamel.yaml.clib-0.2.7-py310h8e9501a_1 None\n",
      "  six                conda-forge/noarch::six-1.16.0-pyh6c4a22f_0 None\n",
      "  yfinance           conda-forge/noarch::yfinance-0.1.93-pyhd8ed1ab_0 None\n",
      "\n",
      "The following packages will be UPDATED:\n",
      "\n",
      "  ca-certificates                      2022.9.24-h4653dfc_0 --> 2022.12.7-h4653dfc_0 None\n",
      "  certifi                            2022.9.24-pyhd8ed1ab_0 --> 2022.12.7-pyhd8ed1ab_0 None\n",
      "  conda                              22.9.0-py310hbe9552e_2 --> 22.11.1-py310hbe9552e_1 None\n",
      "  openssl                                 1.1.1s-h03a7124_0 --> 1.1.1s-h03a7124_1 None\n",
      "\n",
      "\n",
      "\n",
      "Downloading and Extracting Packages\n",
      "libgfortran-5.0.0    | 143 KB    | ##################################### | 100% \n",
      "ruamel.yaml-0.17.21  | 176 KB    | ##################################### | 100% \n",
      "libiconv-1.17        | 1.3 MB    | ##################################### | 100% \n",
      "openssl-1.1.1s       | 1.5 MB    | ##################################### | 100% \n",
      "libxml2-2.10.3       | 632 KB    | ##################################### | 100% \n",
      "ruamel.yaml.clib-0.2 | 107 KB    | ##################################### | 100% \n",
      "yfinance-0.1.93      | 30 KB     | ##################################### | 100% \n",
      "conda-22.11.1        | 891 KB    | ##################################### | 100% \n",
      "ca-certificates-2022 | 142 KB    | ##################################### | 100% \n",
      "pluggy-1.0.0         | 16 KB     | ##################################### | 100% \n",
      "appdirs-1.4.4        | 13 KB     | ##################################### | 100% \n",
      "pytz-2022.7          | 182 KB    | ##################################### | 100% \n",
      "lxml-4.9.2           | 1.2 MB    | ##################################### | 100% \n",
      "multitasking-0.0.9   | 12 KB     | ##################################### | 100% \n",
      "libgfortran5-11.3.0  | 1.0 MB    | ##################################### | 100% \n",
      "certifi-2022.12.7    | 147 KB    | ##################################### | 100% \n",
      "icu-70.1             | 13.3 MB   | ##################################### | 100% \n",
      "numpy-1.23.5         | 4.7 MB    | ##################################### | 100% \n",
      "libxslt-1.1.37       | 231 KB    | ##################################### | 100% \n",
      "llvm-openmp-15.0.6   | 256 KB    | ##################################### | 100% \n",
      "pandas-1.5.2         | 9.6 MB    | ##################################### | 100% \n",
      "Preparing transaction: done\n",
      "Verifying transaction: done\n",
      "Executing transaction: done\n",
      "Retrieving notices: ...working... done\n",
      "\n",
      "Note: you may need to restart the kernel to use updated packages.\n"
     ]
    }
   ],
   "source": [
    "conda install yfinance"
   ]
  },
  {
   "cell_type": "code",
   "execution_count": 2,
   "id": "e9c285e4",
   "metadata": {},
   "outputs": [],
   "source": [
    "import yfinance as yf\n",
    "import pandas as pd"
   ]
  },
  {
   "cell_type": "code",
   "execution_count": 3,
   "id": "b51adad4",
   "metadata": {},
   "outputs": [],
   "source": [
    "apple=yf.Ticker(\"AAPL\")"
   ]
  },
  {
   "cell_type": "code",
   "execution_count": 4,
   "id": "9f324b89",
   "metadata": {},
   "outputs": [
    {
     "data": {
      "text/plain": [
       "{'zip': '95014',\n",
       " 'sector': 'Technology',\n",
       " 'fullTimeEmployees': 164000,\n",
       " 'longBusinessSummary': 'Apple Inc. designs, manufactures, and markets smartphones, personal computers, tablets, wearables, and accessories worldwide. It also sells various related services. In addition, the company offers iPhone, a line of smartphones; Mac, a line of personal computers; iPad, a line of multi-purpose tablets; and wearables, home, and accessories comprising AirPods, Apple TV, Apple Watch, Beats products, and HomePod. Further, it provides AppleCare support and cloud services store services; and operates various platforms, including the App Store that allow customers to discover and download applications and digital content, such as books, music, video, games, and podcasts. Additionally, the company offers various services, such as Apple Arcade, a game subscription service; Apple Fitness+, a personalized fitness service; Apple Music, which offers users a curated listening experience with on-demand radio stations; Apple News+, a subscription news and magazine service; Apple TV+, which offers exclusive original content; Apple Card, a co-branded credit card; and Apple Pay, a cashless payment service, as well as licenses its intellectual property. The company serves consumers, and small and mid-sized businesses; and the education, enterprise, and government markets. It distributes third-party applications for its products through the App Store. The company also sells its products through its retail and online stores, and direct sales force; and third-party cellular network carriers, wholesalers, retailers, and resellers. Apple Inc. was incorporated in 1977 and is headquartered in Cupertino, California.',\n",
       " 'city': 'Cupertino',\n",
       " 'phone': '408 996 1010',\n",
       " 'state': 'CA',\n",
       " 'country': 'United States',\n",
       " 'companyOfficers': [],\n",
       " 'website': 'https://www.apple.com',\n",
       " 'maxAge': 1,\n",
       " 'address1': 'One Apple Park Way',\n",
       " 'industry': 'Consumer Electronics',\n",
       " 'ebitdaMargins': 0.33105,\n",
       " 'profitMargins': 0.2531,\n",
       " 'grossMargins': 0.43310001,\n",
       " 'operatingCashflow': 122151002112,\n",
       " 'revenueGrowth': 0.081,\n",
       " 'operatingMargins': 0.30289,\n",
       " 'ebitda': 130541002752,\n",
       " 'targetLowPrice': 122,\n",
       " 'recommendationKey': 'buy',\n",
       " 'grossProfits': 170782000000,\n",
       " 'freeCashflow': 90215251968,\n",
       " 'targetMedianPrice': 176,\n",
       " 'currentPrice': 131.525,\n",
       " 'earningsGrowth': 0.048,\n",
       " 'currentRatio': 0.879,\n",
       " 'returnOnAssets': 0.21214001,\n",
       " 'numberOfAnalystOpinions': 41,\n",
       " 'targetMeanPrice': 176.69,\n",
       " 'debtToEquity': 261.446,\n",
       " 'returnOnEquity': 1.75459,\n",
       " 'targetHighPrice': 214,\n",
       " 'totalCash': 48304001024,\n",
       " 'totalDebt': 132480000000,\n",
       " 'totalRevenue': 394328014848,\n",
       " 'totalCashPerShare': 3.036,\n",
       " 'financialCurrency': 'USD',\n",
       " 'revenuePerShare': 24.317,\n",
       " 'quickRatio': 0.709,\n",
       " 'recommendationMean': 1.9,\n",
       " 'exchange': 'NMS',\n",
       " 'shortName': 'Apple Inc.',\n",
       " 'longName': 'Apple Inc.',\n",
       " 'exchangeTimezoneName': 'America/New_York',\n",
       " 'exchangeTimezoneShortName': 'EST',\n",
       " 'isEsgPopulated': False,\n",
       " 'gmtOffSetMilliseconds': '-18000000',\n",
       " 'quoteType': 'EQUITY',\n",
       " 'symbol': 'AAPL',\n",
       " 'messageBoardId': 'finmb_24937',\n",
       " 'market': 'us_market',\n",
       " 'annualHoldingsTurnover': None,\n",
       " 'enterpriseToRevenue': 5.64,\n",
       " 'beta3Year': None,\n",
       " 'enterpriseToEbitda': 17.037,\n",
       " '52WeekChange': -0.2075994,\n",
       " 'morningStarRiskRating': None,\n",
       " 'forwardEps': 6.77,\n",
       " 'revenueQuarterlyGrowth': None,\n",
       " 'sharesOutstanding': 15908100096,\n",
       " 'fundInceptionDate': None,\n",
       " 'annualReportExpenseRatio': None,\n",
       " 'totalAssets': None,\n",
       " 'bookValue': 3.178,\n",
       " 'sharesShort': 125719918,\n",
       " 'sharesPercentSharesOut': 0.007900001,\n",
       " 'fundFamily': None,\n",
       " 'lastFiscalYearEnd': 1663977600,\n",
       " 'heldPercentInstitutions': 0.60025,\n",
       " 'netIncomeToCommon': 99802996736,\n",
       " 'trailingEps': 6.11,\n",
       " 'lastDividendValue': 0.23,\n",
       " 'SandP52WeekChange': -0.15666741,\n",
       " 'priceToBook': 41.38609,\n",
       " 'heldPercentInsiders': 0.00071999995,\n",
       " 'nextFiscalYearEnd': 1727136000,\n",
       " 'yield': None,\n",
       " 'mostRecentQuarter': 1663977600,\n",
       " 'shortRatio': 1.52,\n",
       " 'sharesShortPreviousMonthDate': 1667174400,\n",
       " 'floatShares': 15891414476,\n",
       " 'beta': 1.219468,\n",
       " 'enterpriseValue': 2223977005056,\n",
       " 'priceHint': 2,\n",
       " 'threeYearAverageReturn': None,\n",
       " 'lastSplitDate': 1598832000,\n",
       " 'lastSplitFactor': '4:1',\n",
       " 'legalType': None,\n",
       " 'lastDividendDate': 1667520000,\n",
       " 'morningStarOverallRating': None,\n",
       " 'earningsQuarterlyGrowth': 0.008,\n",
       " 'priceToSalesTrailing12Months': 5.306021,\n",
       " 'dateShortInterest': 1669766400,\n",
       " 'pegRatio': 2.48,\n",
       " 'ytdReturn': None,\n",
       " 'forwardPE': 19.427622,\n",
       " 'lastCapGain': None,\n",
       " 'shortPercentOfFloat': 0.007900001,\n",
       " 'sharesShortPriorMonth': 103178670,\n",
       " 'impliedSharesOutstanding': 0,\n",
       " 'category': None,\n",
       " 'fiveYearAverageReturn': None,\n",
       " 'previousClose': 134.51,\n",
       " 'regularMarketOpen': 135.11,\n",
       " 'twoHundredDayAverage': 152.81895,\n",
       " 'trailingAnnualDividendYield': 0.0066909525,\n",
       " 'payoutRatio': 0.14729999,\n",
       " 'volume24Hr': None,\n",
       " 'regularMarketDayHigh': 135.18,\n",
       " 'navPrice': None,\n",
       " 'averageDailyVolume10Day': 84712460,\n",
       " 'regularMarketPreviousClose': 134.51,\n",
       " 'fiftyDayAverage': 144.864,\n",
       " 'trailingAnnualDividendRate': 0.9,\n",
       " 'open': 135.11,\n",
       " 'toCurrency': None,\n",
       " 'averageVolume10days': 84712460,\n",
       " 'expireDate': None,\n",
       " 'algorithm': None,\n",
       " 'dividendRate': 0.92,\n",
       " 'exDividendDate': 1667520000,\n",
       " 'circulatingSupply': None,\n",
       " 'startDate': None,\n",
       " 'regularMarketDayLow': 131.4549,\n",
       " 'currency': 'USD',\n",
       " 'trailingPE': 21.526186,\n",
       " 'regularMarketVolume': 56365941,\n",
       " 'lastMarket': None,\n",
       " 'maxSupply': None,\n",
       " 'openInterest': None,\n",
       " 'marketCap': 2092312821760,\n",
       " 'volumeAllCurrencies': None,\n",
       " 'strikePrice': None,\n",
       " 'averageVolume': 88035449,\n",
       " 'dayLow': 131.4549,\n",
       " 'ask': 131.83,\n",
       " 'askSize': 800,\n",
       " 'volume': 56365941,\n",
       " 'fiftyTwoWeekHigh': 182.94,\n",
       " 'fromCurrency': None,\n",
       " 'fiveYearAvgDividendYield': 0.99,\n",
       " 'fiftyTwoWeekLow': 129.04,\n",
       " 'bid': 131.82,\n",
       " 'tradeable': False,\n",
       " 'dividendYield': 0.0068,\n",
       " 'bidSize': 1200,\n",
       " 'dayHigh': 135.18,\n",
       " 'coinMarketCapLink': None,\n",
       " 'regularMarketPrice': 131.525,\n",
       " 'preMarketPrice': 135.18,\n",
       " 'logo_url': 'https://logo.clearbit.com/apple.com',\n",
       " 'trailingPegRatio': 2.6609}"
      ]
     },
     "execution_count": 4,
     "metadata": {},
     "output_type": "execute_result"
    }
   ],
   "source": [
    "#Stock info \n",
    "\n",
    "apple_info = apple.info\n",
    "apple_info"
   ]
  },
  {
   "cell_type": "code",
   "execution_count": 5,
   "id": "bd0c8624",
   "metadata": {},
   "outputs": [
    {
     "data": {
      "text/plain": [
       "'United States'"
      ]
     },
     "execution_count": 5,
     "metadata": {},
     "output_type": "execute_result"
    }
   ],
   "source": [
    "apple_info['country']"
   ]
  },
  {
   "cell_type": "code",
   "execution_count": 6,
   "id": "cc36acc4",
   "metadata": {},
   "outputs": [],
   "source": [
    "#Extract the share price \n",
    "\n",
    "apple_share_price_data=apple.history(period=\"max\")"
   ]
  },
  {
   "cell_type": "code",
   "execution_count": 7,
   "id": "a4beb900",
   "metadata": {},
   "outputs": [
    {
     "data": {
      "text/html": [
       "<div>\n",
       "<style scoped>\n",
       "    .dataframe tbody tr th:only-of-type {\n",
       "        vertical-align: middle;\n",
       "    }\n",
       "\n",
       "    .dataframe tbody tr th {\n",
       "        vertical-align: top;\n",
       "    }\n",
       "\n",
       "    .dataframe thead th {\n",
       "        text-align: right;\n",
       "    }\n",
       "</style>\n",
       "<table border=\"1\" class=\"dataframe\">\n",
       "  <thead>\n",
       "    <tr style=\"text-align: right;\">\n",
       "      <th></th>\n",
       "      <th>Open</th>\n",
       "      <th>High</th>\n",
       "      <th>Low</th>\n",
       "      <th>Close</th>\n",
       "      <th>Volume</th>\n",
       "      <th>Dividends</th>\n",
       "      <th>Stock Splits</th>\n",
       "    </tr>\n",
       "    <tr>\n",
       "      <th>Date</th>\n",
       "      <th></th>\n",
       "      <th></th>\n",
       "      <th></th>\n",
       "      <th></th>\n",
       "      <th></th>\n",
       "      <th></th>\n",
       "      <th></th>\n",
       "    </tr>\n",
       "  </thead>\n",
       "  <tbody>\n",
       "    <tr>\n",
       "      <th>1980-12-12 00:00:00-05:00</th>\n",
       "      <td>0.099874</td>\n",
       "      <td>0.100308</td>\n",
       "      <td>0.099874</td>\n",
       "      <td>0.099874</td>\n",
       "      <td>469033600</td>\n",
       "      <td>0.0</td>\n",
       "      <td>0.0</td>\n",
       "    </tr>\n",
       "    <tr>\n",
       "      <th>1980-12-15 00:00:00-05:00</th>\n",
       "      <td>0.095098</td>\n",
       "      <td>0.095098</td>\n",
       "      <td>0.094663</td>\n",
       "      <td>0.094663</td>\n",
       "      <td>175884800</td>\n",
       "      <td>0.0</td>\n",
       "      <td>0.0</td>\n",
       "    </tr>\n",
       "    <tr>\n",
       "      <th>1980-12-16 00:00:00-05:00</th>\n",
       "      <td>0.088149</td>\n",
       "      <td>0.088149</td>\n",
       "      <td>0.087715</td>\n",
       "      <td>0.087715</td>\n",
       "      <td>105728000</td>\n",
       "      <td>0.0</td>\n",
       "      <td>0.0</td>\n",
       "    </tr>\n",
       "    <tr>\n",
       "      <th>1980-12-17 00:00:00-05:00</th>\n",
       "      <td>0.089886</td>\n",
       "      <td>0.090320</td>\n",
       "      <td>0.089886</td>\n",
       "      <td>0.089886</td>\n",
       "      <td>86441600</td>\n",
       "      <td>0.0</td>\n",
       "      <td>0.0</td>\n",
       "    </tr>\n",
       "    <tr>\n",
       "      <th>1980-12-18 00:00:00-05:00</th>\n",
       "      <td>0.092492</td>\n",
       "      <td>0.092927</td>\n",
       "      <td>0.092492</td>\n",
       "      <td>0.092492</td>\n",
       "      <td>73449600</td>\n",
       "      <td>0.0</td>\n",
       "      <td>0.0</td>\n",
       "    </tr>\n",
       "  </tbody>\n",
       "</table>\n",
       "</div>"
      ],
      "text/plain": [
       "                               Open      High       Low     Close     Volume  \\\n",
       "Date                                                                           \n",
       "1980-12-12 00:00:00-05:00  0.099874  0.100308  0.099874  0.099874  469033600   \n",
       "1980-12-15 00:00:00-05:00  0.095098  0.095098  0.094663  0.094663  175884800   \n",
       "1980-12-16 00:00:00-05:00  0.088149  0.088149  0.087715  0.087715  105728000   \n",
       "1980-12-17 00:00:00-05:00  0.089886  0.090320  0.089886  0.089886   86441600   \n",
       "1980-12-18 00:00:00-05:00  0.092492  0.092927  0.092492  0.092492   73449600   \n",
       "\n",
       "                           Dividends  Stock Splits  \n",
       "Date                                                \n",
       "1980-12-12 00:00:00-05:00        0.0           0.0  \n",
       "1980-12-15 00:00:00-05:00        0.0           0.0  \n",
       "1980-12-16 00:00:00-05:00        0.0           0.0  \n",
       "1980-12-17 00:00:00-05:00        0.0           0.0  \n",
       "1980-12-18 00:00:00-05:00        0.0           0.0  "
      ]
     },
     "execution_count": 7,
     "metadata": {},
     "output_type": "execute_result"
    }
   ],
   "source": [
    "apple_share_price_data.head()"
   ]
  },
  {
   "cell_type": "code",
   "execution_count": 10,
   "id": "401fd78e",
   "metadata": {},
   "outputs": [],
   "source": [
    "#Reset the index of the dataframe\n",
    "\n",
    "apple_share_price_data.reset_index(inplace=True)"
   ]
  },
  {
   "cell_type": "code",
   "execution_count": 11,
   "id": "af18d43d",
   "metadata": {},
   "outputs": [
    {
     "data": {
      "text/plain": [
       "<AxesSubplot: xlabel='Date'>"
      ]
     },
     "execution_count": 11,
     "metadata": {},
     "output_type": "execute_result"
    },
    {
     "data": {
      "image/png": "[encoded data removed]",
      "text/plain": [
       "<Figure size 640x480 with 1 Axes>"
      ]
     },
     "metadata": {},
     "output_type": "display_data"
    }
   ],
   "source": [
    "#Plot open price against the date\n",
    "\n",
    "apple_share_price_data.plot(x=\"Date\", y=\"Open\")"
   ]
  },
  {
   "cell_type": "code",
   "execution_count": 12,
   "id": "03d193a1",
   "metadata": {},
   "outputs": [
    {
     "data": {
      "text/plain": [
       "Date\n",
       "1987-05-11 00:00:00-04:00    0.000536\n",
       "1987-08-10 00:00:00-04:00    0.000536\n",
       "1987-11-17 00:00:00-05:00    0.000714\n",
       "1988-02-12 00:00:00-05:00    0.000714\n",
       "1988-05-16 00:00:00-04:00    0.000714\n",
       "                               ...   \n",
       "2021-11-05 00:00:00-04:00    0.220000\n",
       "2022-02-04 00:00:00-05:00    0.220000\n",
       "2022-05-06 00:00:00-04:00    0.230000\n",
       "2022-08-05 00:00:00-04:00    0.230000\n",
       "2022-11-04 00:00:00-04:00    0.230000\n",
       "Name: Dividends, Length: 77, dtype: float64"
      ]
     },
     "execution_count": 12,
     "metadata": {},
     "output_type": "execute_result"
    }
   ],
   "source": [
    "#Extract dividends\n",
    "\n",
    "apple.dividends"
   ]
  },
  {
   "cell_type": "code",
   "execution_count": 13,
   "id": "49527170",
   "metadata": {},
   "outputs": [
    {
     "data": {
      "text/plain": [
       "<AxesSubplot: xlabel='Date'>"
      ]
     },
     "execution_count": 13,
     "metadata": {},
     "output_type": "execute_result"
    },
    {
     "data": {
      "image/png": "[encoded data removed]",
      "text/plain": [
       "<Figure size 640x480 with 1 Axes>"
      ]
     },
     "metadata": {},
     "output_type": "display_data"
    }
   ],
   "source": [
    "#We can plot the dividends overtime\n",
    "\n",
    "apple.dividends.plot()"
   ]
  },
  {
   "cell_type": "code",
   "execution_count": 15,
   "id": "3724b12c",
   "metadata": {},
   "outputs": [],
   "source": [
    "starbucks=yf.Ticker(\"SBUX\")"
   ]
  },
  {
   "cell_type": "code",
   "execution_count": 16,
   "id": "f5da9064",
   "metadata": {},
   "outputs": [
    {
     "data": {
      "text/plain": [
       "{'zip': '98134',\n",
       " 'sector': 'Consumer Cyclical',\n",
       " 'fullTimeEmployees': 402000,\n",
       " 'longBusinessSummary': \"Starbucks Corporation, together with its subsidiaries, operates as a roaster, marketer, and retailer of specialty coffee worldwide. The company operates through three segments: North America, International, and Channel Development. Its stores offer coffee and tea beverages, roasted whole beans and ground coffees, single serve products, and ready-to-drink beverages; and various food products, such as pastries, breakfast sandwiches, and lunch items. The company also licenses its trademarks through licensed stores, and grocery and foodservice. It offers its products under the Starbucks Coffee, Teavana, Seattle's Best Coffee, Ethos, Starbucks Reserve, and Princi brands. As of October 2, 2022, the company operated 17,295 company-operated and licensed stores in North America; and 18,416 company-operated and licensed stores internationally. Starbucks Corporation was founded in 1971 and is based in Seattle, Washington.\",\n",
       " 'city': 'Seattle',\n",
       " 'phone': '206 447 1575',\n",
       " 'state': 'WA',\n",
       " 'country': 'United States',\n",
       " 'companyOfficers': [],\n",
       " 'website': 'https://www.starbucks.com',\n",
       " 'maxAge': 1,\n",
       " 'address1': '2401 Utah Avenue South',\n",
       " 'industry': 'Restaurants',\n",
       " 'ebitdaMargins': 0.18521999,\n",
       " 'profitMargins': 0.10175,\n",
       " 'grossMargins': 0.26001,\n",
       " 'operatingCashflow': 4397300224,\n",
       " 'revenueGrowth': 0.033,\n",
       " 'operatingMargins': 0.1378,\n",
       " 'ebitda': 5973400064,\n",
       " 'targetLowPrice': 70,\n",
       " 'recommendationKey': 'buy',\n",
       " 'grossProfits': 8385400000,\n",
       " 'freeCashflow': 1806887552,\n",
       " 'targetMedianPrice': 98,\n",
       " 'currentPrice': 98.3,\n",
       " 'earningsGrowth': -0.486,\n",
       " 'currentRatio': 0.767,\n",
       " 'returnOnAssets': 0.09356,\n",
       " 'numberOfAnalystOpinions': 31,\n",
       " 'targetMeanPrice': 99.51,\n",
       " 'debtToEquity': None,\n",
       " 'returnOnEquity': None,\n",
       " 'targetHighPrice': 136,\n",
       " 'totalCash': 3182899968,\n",
       " 'totalDebt': 23850799104,\n",
       " 'totalRevenue': 32250300416,\n",
       " 'totalCashPerShare': 2.773,\n",
       " 'financialCurrency': 'USD',\n",
       " 'revenuePerShare': 27.963,\n",
       " 'quickRatio': 0.487,\n",
       " 'recommendationMean': 2.5,\n",
       " 'exchange': 'NMS',\n",
       " 'shortName': 'Starbucks Corporation',\n",
       " 'longName': 'Starbucks Corporation',\n",
       " 'exchangeTimezoneName': 'America/New_York',\n",
       " 'exchangeTimezoneShortName': 'EST',\n",
       " 'isEsgPopulated': False,\n",
       " 'gmtOffSetMilliseconds': '-18000000',\n",
       " 'quoteType': 'EQUITY',\n",
       " 'symbol': 'SBUX',\n",
       " 'messageBoardId': 'finmb_34745',\n",
       " 'market': 'us_market',\n",
       " 'annualHoldingsTurnover': None,\n",
       " 'enterpriseToRevenue': 4.159,\n",
       " 'beta3Year': None,\n",
       " 'enterpriseToEbitda': 22.452,\n",
       " '52WeekChange': -0.08566934,\n",
       " 'morningStarRiskRating': None,\n",
       " 'forwardEps': 4.04,\n",
       " 'revenueQuarterlyGrowth': None,\n",
       " 'sharesOutstanding': 1147800064,\n",
       " 'fundInceptionDate': None,\n",
       " 'annualReportExpenseRatio': None,\n",
       " 'totalAssets': None,\n",
       " 'bookValue': -7.585,\n",
       " 'sharesShort': 14021713,\n",
       " 'sharesPercentSharesOut': 0.012200001,\n",
       " 'fundFamily': None,\n",
       " 'lastFiscalYearEnd': 1664668800,\n",
       " 'heldPercentInstitutions': 0.72091,\n",
       " 'netIncomeToCommon': 3281600000,\n",
       " 'trailingEps': 2.83,\n",
       " 'lastDividendValue': 0.53,\n",
       " 'SandP52WeekChange': -0.15666741,\n",
       " 'priceToBook': None,\n",
       " 'heldPercentInsiders': 0.00189,\n",
       " 'nextFiscalYearEnd': 1727827200,\n",
       " 'yield': None,\n",
       " 'mostRecentQuarter': 1664668800,\n",
       " 'shortRatio': 1.82,\n",
       " 'sharesShortPreviousMonthDate': 1667174400,\n",
       " 'floatShares': 1123810980,\n",
       " 'beta': 0.895114,\n",
       " 'enterpriseValue': 134112870400,\n",
       " 'priceHint': 2,\n",
       " 'threeYearAverageReturn': None,\n",
       " 'lastSplitDate': 1428537600,\n",
       " 'lastSplitFactor': '2:1',\n",
       " 'legalType': None,\n",
       " 'lastDividendDate': 1667952000,\n",
       " 'morningStarOverallRating': None,\n",
       " 'earningsQuarterlyGrowth': -0.502,\n",
       " 'priceToSalesTrailing12Months': 3.4985332,\n",
       " 'dateShortInterest': 1669766400,\n",
       " 'pegRatio': 1.65,\n",
       " 'ytdReturn': None,\n",
       " 'forwardPE': 24.331684,\n",
       " 'lastCapGain': None,\n",
       " 'shortPercentOfFloat': 0.012200001,\n",
       " 'sharesShortPriorMonth': 13092385,\n",
       " 'impliedSharesOutstanding': 0,\n",
       " 'category': None,\n",
       " 'fiveYearAverageReturn': None,\n",
       " 'previousClose': 98.83,\n",
       " 'regularMarketOpen': 98.43,\n",
       " 'twoHundredDayAverage': 84.9833,\n",
       " 'trailingAnnualDividendYield': 0.02023677,\n",
       " 'payoutRatio': 0.6926,\n",
       " 'volume24Hr': None,\n",
       " 'regularMarketDayHigh': 98.81,\n",
       " 'navPrice': None,\n",
       " 'averageDailyVolume10Day': 7491730,\n",
       " 'regularMarketPreviousClose': 98.83,\n",
       " 'fiftyDayAverage': 94.0814,\n",
       " 'trailingAnnualDividendRate': 2,\n",
       " 'open': 98.43,\n",
       " 'toCurrency': None,\n",
       " 'averageVolume10days': 7491730,\n",
       " 'expireDate': None,\n",
       " 'algorithm': None,\n",
       " 'dividendRate': 2.12,\n",
       " 'exDividendDate': 1675900800,\n",
       " 'circulatingSupply': None,\n",
       " 'startDate': None,\n",
       " 'regularMarketDayLow': 97.73,\n",
       " 'currency': 'USD',\n",
       " 'trailingPE': 34.734985,\n",
       " 'regularMarketVolume': 5750240,\n",
       " 'lastMarket': None,\n",
       " 'maxSupply': None,\n",
       " 'openInterest': None,\n",
       " 'marketCap': 112828751872,\n",
       " 'volumeAllCurrencies': None,\n",
       " 'strikePrice': None,\n",
       " 'averageVolume': 7647111,\n",
       " 'dayLow': 97.73,\n",
       " 'ask': 98.04,\n",
       " 'askSize': 800,\n",
       " 'volume': 5750240,\n",
       " 'fiftyTwoWeekHigh': 117.8,\n",
       " 'fromCurrency': None,\n",
       " 'fiveYearAvgDividendYield': 1.91,\n",
       " 'fiftyTwoWeekLow': 68.39,\n",
       " 'bid': 97.99,\n",
       " 'tradeable': False,\n",
       " 'dividendYield': 0.0215,\n",
       " 'bidSize': 900,\n",
       " 'dayHigh': 98.81,\n",
       " 'coinMarketCapLink': None,\n",
       " 'regularMarketPrice': 98.3,\n",
       " 'preMarketPrice': 98.19,\n",
       " 'logo_url': 'https://logo.clearbit.com/starbucks.com',\n",
       " 'trailingPegRatio': 1.6691}"
      ]
     },
     "execution_count": 16,
     "metadata": {},
     "output_type": "execute_result"
    }
   ],
   "source": [
    "#Stock info\n",
    "\n",
    "starbucks_info=starbucks.info\n",
    "starbucks_info"
   ]
  },
  {
   "cell_type": "code",
   "execution_count": 17,
   "id": "6cfdbd7e",
   "metadata": {},
   "outputs": [
    {
     "data": {
      "text/plain": [
       "'Consumer Cyclical'"
      ]
     },
     "execution_count": 17,
     "metadata": {},
     "output_type": "execute_result"
    }
   ],
   "source": [
    "starbucks.info['sector']"
   ]
  },
  {
   "cell_type": "code",
   "execution_count": 19,
   "id": "98ebc089",
   "metadata": {},
   "outputs": [
    {
     "data": {
      "text/plain": [
       "'https://www.starbucks.com'"
      ]
     },
     "execution_count": 19,
     "metadata": {},
     "output_type": "execute_result"
    }
   ],
   "source": [
    "starbucks_info['website']"
   ]
  },
  {
   "cell_type": "code",
   "execution_count": 20,
   "id": "409bf4c2",
   "metadata": {},
   "outputs": [
    {
     "data": {
      "text/plain": [
       "0.033"
      ]
     },
     "execution_count": 20,
     "metadata": {},
     "output_type": "execute_result"
    }
   ],
   "source": [
    "starbucks_info['revenueGrowth']"
   ]
  },
  {
   "cell_type": "code",
   "execution_count": 22,
   "id": "ec8bfa53",
   "metadata": {},
   "outputs": [
    {
     "data": {
      "text/html": [
       "<div>\n",
       "<style scoped>\n",
       "    .dataframe tbody tr th:only-of-type {\n",
       "        vertical-align: middle;\n",
       "    }\n",
       "\n",
       "    .dataframe tbody tr th {\n",
       "        vertical-align: top;\n",
       "    }\n",
       "\n",
       "    .dataframe thead th {\n",
       "        text-align: right;\n",
       "    }\n",
       "</style>\n",
       "<table border=\"1\" class=\"dataframe\">\n",
       "  <thead>\n",
       "    <tr style=\"text-align: right;\">\n",
       "      <th></th>\n",
       "      <th>Open</th>\n",
       "      <th>High</th>\n",
       "      <th>Low</th>\n",
       "      <th>Close</th>\n",
       "      <th>Volume</th>\n",
       "      <th>Dividends</th>\n",
       "      <th>Stock Splits</th>\n",
       "    </tr>\n",
       "    <tr>\n",
       "      <th>Date</th>\n",
       "      <th></th>\n",
       "      <th></th>\n",
       "      <th></th>\n",
       "      <th></th>\n",
       "      <th></th>\n",
       "      <th></th>\n",
       "      <th></th>\n",
       "    </tr>\n",
       "  </thead>\n",
       "  <tbody>\n",
       "    <tr>\n",
       "      <th>1992-06-26 00:00:00-04:00</th>\n",
       "      <td>0.263531</td>\n",
       "      <td>0.279217</td>\n",
       "      <td>0.257257</td>\n",
       "      <td>0.269806</td>\n",
       "      <td>224358400</td>\n",
       "      <td>0.0</td>\n",
       "      <td>0.0</td>\n",
       "    </tr>\n",
       "    <tr>\n",
       "      <th>1992-06-29 00:00:00-04:00</th>\n",
       "      <td>0.272943</td>\n",
       "      <td>0.294904</td>\n",
       "      <td>0.266668</td>\n",
       "      <td>0.288629</td>\n",
       "      <td>58732800</td>\n",
       "      <td>0.0</td>\n",
       "      <td>0.0</td>\n",
       "    </tr>\n",
       "    <tr>\n",
       "      <th>1992-06-30 00:00:00-04:00</th>\n",
       "      <td>0.294904</td>\n",
       "      <td>0.298041</td>\n",
       "      <td>0.276080</td>\n",
       "      <td>0.279217</td>\n",
       "      <td>34777600</td>\n",
       "      <td>0.0</td>\n",
       "      <td>0.0</td>\n",
       "    </tr>\n",
       "    <tr>\n",
       "      <th>1992-07-01 00:00:00-04:00</th>\n",
       "      <td>0.282355</td>\n",
       "      <td>0.288629</td>\n",
       "      <td>0.272943</td>\n",
       "      <td>0.285492</td>\n",
       "      <td>18316800</td>\n",
       "      <td>0.0</td>\n",
       "      <td>0.0</td>\n",
       "    </tr>\n",
       "    <tr>\n",
       "      <th>1992-07-02 00:00:00-04:00</th>\n",
       "      <td>0.288629</td>\n",
       "      <td>0.288629</td>\n",
       "      <td>0.279217</td>\n",
       "      <td>0.285492</td>\n",
       "      <td>13996800</td>\n",
       "      <td>0.0</td>\n",
       "      <td>0.0</td>\n",
       "    </tr>\n",
       "  </tbody>\n",
       "</table>\n",
       "</div>"
      ],
      "text/plain": [
       "                               Open      High       Low     Close     Volume  \\\n",
       "Date                                                                           \n",
       "1992-06-26 00:00:00-04:00  0.263531  0.279217  0.257257  0.269806  224358400   \n",
       "1992-06-29 00:00:00-04:00  0.272943  0.294904  0.266668  0.288629   58732800   \n",
       "1992-06-30 00:00:00-04:00  0.294904  0.298041  0.276080  0.279217   34777600   \n",
       "1992-07-01 00:00:00-04:00  0.282355  0.288629  0.272943  0.285492   18316800   \n",
       "1992-07-02 00:00:00-04:00  0.288629  0.288629  0.279217  0.285492   13996800   \n",
       "\n",
       "                           Dividends  Stock Splits  \n",
       "Date                                                \n",
       "1992-06-26 00:00:00-04:00        0.0           0.0  \n",
       "1992-06-29 00:00:00-04:00        0.0           0.0  \n",
       "1992-06-30 00:00:00-04:00        0.0           0.0  \n",
       "1992-07-01 00:00:00-04:00        0.0           0.0  \n",
       "1992-07-02 00:00:00-04:00        0.0           0.0  "
      ]
     },
     "execution_count": 22,
     "metadata": {},
     "output_type": "execute_result"
    }
   ],
   "source": [
    "starbucks_share_price_data=starbucks.history(period=\"max\")\n",
    "starbucks_share_price_data.head()"
   ]
  },
  {
   "cell_type": "code",
   "execution_count": 23,
   "id": "df300857",
   "metadata": {},
   "outputs": [],
   "source": [
    "#Reset the index of the dataframe\n",
    "\n",
    "starbucks_share_price_data.reset_index(inplace=True)"
   ]
  },
  {
   "cell_type": "code",
   "execution_count": 24,
   "id": "3495d2b8",
   "metadata": {},
   "outputs": [
    {
     "data": {
      "text/plain": [
       "<AxesSubplot: xlabel='Date'>"
      ]
     },
     "execution_count": 24,
     "metadata": {},
     "output_type": "execute_result"
    },
    {
     "data": {
      "image/png": "[encoded data removed]",
      "text/plain": [
       "<Figure size 640x480 with 1 Axes>"
      ]
     },
     "metadata": {},
     "output_type": "display_data"
    }
   ],
   "source": [
    "#Plot open price against the date\n",
    "starbucks_share_price_data.plot(x=\"Date\", y=\"Open\")"
   ]
  },
  {
   "cell_type": "code",
   "execution_count": 25,
   "id": "3dc31f65",
   "metadata": {},
   "outputs": [
    {
     "data": {
      "text/plain": [
       "Date\n",
       "2010-04-05 00:00:00-04:00    0.050\n",
       "2010-08-02 00:00:00-04:00    0.065\n",
       "2010-11-16 00:00:00-05:00    0.065\n",
       "2011-02-07 00:00:00-05:00    0.065\n",
       "2011-05-09 00:00:00-04:00    0.065\n",
       "2011-08-08 00:00:00-04:00    0.065\n",
       "2011-11-15 00:00:00-05:00    0.085\n",
       "2012-02-06 00:00:00-05:00    0.085\n",
       "2012-05-07 00:00:00-04:00    0.085\n",
       "2012-08-06 00:00:00-04:00    0.085\n",
       "2012-11-13 00:00:00-05:00    0.105\n",
       "2013-02-05 00:00:00-05:00    0.105\n",
       "2013-05-07 00:00:00-04:00    0.105\n",
       "2013-08-06 00:00:00-04:00    0.105\n",
       "2013-11-12 00:00:00-05:00    0.130\n",
       "2014-02-04 00:00:00-05:00    0.130\n",
       "2014-05-06 00:00:00-04:00    0.130\n",
       "2014-08-05 00:00:00-04:00    0.130\n",
       "2014-11-10 00:00:00-05:00    0.160\n",
       "2015-02-03 00:00:00-05:00    0.160\n",
       "2015-05-05 00:00:00-04:00    0.160\n",
       "2015-08-04 00:00:00-04:00    0.160\n",
       "2015-11-09 00:00:00-05:00    0.200\n",
       "2016-02-02 00:00:00-05:00    0.200\n",
       "2016-05-03 00:00:00-04:00    0.200\n",
       "2016-08-02 00:00:00-04:00    0.200\n",
       "2016-11-15 00:00:00-05:00    0.250\n",
       "2017-02-07 00:00:00-05:00    0.250\n",
       "2017-05-09 00:00:00-04:00    0.250\n",
       "2017-08-08 00:00:00-04:00    0.250\n",
       "2017-11-15 00:00:00-05:00    0.300\n",
       "2018-02-07 00:00:00-05:00    0.300\n",
       "2018-05-09 00:00:00-04:00    0.300\n",
       "2018-08-08 00:00:00-04:00    0.360\n",
       "2018-11-14 00:00:00-05:00    0.360\n",
       "2019-02-06 00:00:00-05:00    0.360\n",
       "2019-05-08 00:00:00-04:00    0.360\n",
       "2019-08-07 00:00:00-04:00    0.360\n",
       "2019-11-12 00:00:00-05:00    0.410\n",
       "2020-02-05 00:00:00-05:00    0.410\n",
       "2020-05-07 00:00:00-04:00    0.410\n",
       "2020-08-06 00:00:00-04:00    0.410\n",
       "2020-11-10 00:00:00-05:00    0.450\n",
       "2021-02-17 00:00:00-05:00    0.450\n",
       "2021-05-12 00:00:00-04:00    0.450\n",
       "2021-08-11 00:00:00-04:00    0.450\n",
       "2021-11-10 00:00:00-05:00    0.490\n",
       "2022-02-10 00:00:00-05:00    0.490\n",
       "2022-05-12 00:00:00-04:00    0.490\n",
       "2022-08-11 00:00:00-04:00    0.490\n",
       "2022-11-09 00:00:00-05:00    0.530\n",
       "Name: Dividends, dtype: float64"
      ]
     },
     "execution_count": 25,
     "metadata": {},
     "output_type": "execute_result"
    }
   ],
   "source": [
    "#Extract dividends\n",
    "starbucks.dividends"
   ]
  },
  {
   "cell_type": "code",
   "execution_count": 28,
   "id": "063f9a76",
   "metadata": {},
   "outputs": [
    {
     "data": {
      "text/plain": [
       "<AxesSubplot: xlabel='Date'>"
      ]
     },
     "execution_count": 28,
     "metadata": {},
     "output_type": "execute_result"
    },
    {
     "data": {
      "image/png": "[encoded data removed]",
      "text/plain": [
       "<Figure size 640x480 with 1 Axes>"
      ]
     },
     "metadata": {},
     "output_type": "display_data"
    }
   ],
   "source": [
    "#We can plot the divident over time\n",
    "\n",
    "starbucks.dividends.plot()"
   ]
  },
  {
   "cell_type": "code",
   "execution_count": null,
   "id": "896a2cf4",
   "metadata": {},
   "outputs": [],
   "source": []
  }
 ],
 "metadata": {
  "kernelspec": {
   "display_name": "Python 3 (ipykernel)",
   "language": "python",
   "name": "python3"
  },
  "language_info": {
   "codemirror_mode": {
    "name": "ipython",
    "version": 3
   },
   "file_extension": ".py",
   "mimetype": "text/x-python",
   "name": "python",
   "nbconvert_exporter": "python",
   "pygments_lexer": "ipython3",
   "version": "3.10.6"
  }
 },
 "nbformat": 4,
 "nbformat_minor": 5
}
